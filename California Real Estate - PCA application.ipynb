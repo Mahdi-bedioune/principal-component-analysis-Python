{
 "cells": [
  {
   "cell_type": "markdown",
   "id": "630cedf1",
   "metadata": {},
   "source": [
    "# A Step-by-Step Explanation of PCA on California Estates"
   ]
  },
  {
   "cell_type": "markdown",
   "id": "da89109d",
   "metadata": {},
   "source": [
    "### Import the libraries"
   ]
  },
  {
   "cell_type": "code",
   "execution_count": 2,
   "id": "67c0bdaa",
   "metadata": {},
   "outputs": [],
   "source": [
    "import pandas as pd\n",
    "from sklearn.preprocessing import StandardScaler\n",
    "from sklearn.decomposition import PCA\n",
    "import matplotlib.pyplot as plt\n",
    "import seaborn as sns\n",
    "sns.set()"
   ]
  },
  {
   "cell_type": "markdown",
   "id": "a1552a83",
   "metadata": {},
   "source": [
    "### Load the dataset "
   ]
  },
  {
   "cell_type": "code",
   "execution_count": 3,
   "id": "44e3c989",
   "metadata": {
    "scrolled": true
   },
   "outputs": [
    {
     "data": {
      "text/html": [
       "<div>\n",
       "<style scoped>\n",
       "    .dataframe tbody tr th:only-of-type {\n",
       "        vertical-align: middle;\n",
       "    }\n",
       "\n",
       "    .dataframe tbody tr th {\n",
       "        vertical-align: top;\n",
       "    }\n",
       "\n",
       "    .dataframe thead th {\n",
       "        text-align: right;\n",
       "    }\n",
       "</style>\n",
       "<table border=\"1\" class=\"dataframe\">\n",
       "  <thead>\n",
       "    <tr style=\"text-align: right;\">\n",
       "      <th></th>\n",
       "      <th>Building</th>\n",
       "      <th>Year of sale</th>\n",
       "      <th>Month of sale</th>\n",
       "      <th>Type of property</th>\n",
       "      <th>Property #</th>\n",
       "      <th>Area (ft.)</th>\n",
       "      <th>Price</th>\n",
       "      <th>Status</th>\n",
       "    </tr>\n",
       "  </thead>\n",
       "  <tbody>\n",
       "    <tr>\n",
       "      <th>0</th>\n",
       "      <td>1</td>\n",
       "      <td>2005.0</td>\n",
       "      <td>11.0</td>\n",
       "      <td>0</td>\n",
       "      <td>30.0</td>\n",
       "      <td>743</td>\n",
       "      <td>246173</td>\n",
       "      <td>1</td>\n",
       "    </tr>\n",
       "    <tr>\n",
       "      <th>1</th>\n",
       "      <td>1</td>\n",
       "      <td>2005.0</td>\n",
       "      <td>10.0</td>\n",
       "      <td>0</td>\n",
       "      <td>29.0</td>\n",
       "      <td>756</td>\n",
       "      <td>246332</td>\n",
       "      <td>1</td>\n",
       "    </tr>\n",
       "    <tr>\n",
       "      <th>2</th>\n",
       "      <td>2</td>\n",
       "      <td>2007.0</td>\n",
       "      <td>7.0</td>\n",
       "      <td>0</td>\n",
       "      <td>2.0</td>\n",
       "      <td>587</td>\n",
       "      <td>209281</td>\n",
       "      <td>1</td>\n",
       "    </tr>\n",
       "    <tr>\n",
       "      <th>3</th>\n",
       "      <td>2</td>\n",
       "      <td>2007.0</td>\n",
       "      <td>12.0</td>\n",
       "      <td>0</td>\n",
       "      <td>31.0</td>\n",
       "      <td>1605</td>\n",
       "      <td>452667</td>\n",
       "      <td>1</td>\n",
       "    </tr>\n",
       "    <tr>\n",
       "      <th>4</th>\n",
       "      <td>1</td>\n",
       "      <td>2004.0</td>\n",
       "      <td>11.0</td>\n",
       "      <td>0</td>\n",
       "      <td>49.0</td>\n",
       "      <td>1375</td>\n",
       "      <td>467083</td>\n",
       "      <td>1</td>\n",
       "    </tr>\n",
       "    <tr>\n",
       "      <th>...</th>\n",
       "      <td>...</td>\n",
       "      <td>...</td>\n",
       "      <td>...</td>\n",
       "      <td>...</td>\n",
       "      <td>...</td>\n",
       "      <td>...</td>\n",
       "      <td>...</td>\n",
       "      <td>...</td>\n",
       "    </tr>\n",
       "    <tr>\n",
       "      <th>262</th>\n",
       "      <td>5</td>\n",
       "      <td>NaN</td>\n",
       "      <td>NaN</td>\n",
       "      <td>0</td>\n",
       "      <td>NaN</td>\n",
       "      <td>1239</td>\n",
       "      <td>322611</td>\n",
       "      <td>0</td>\n",
       "    </tr>\n",
       "    <tr>\n",
       "      <th>263</th>\n",
       "      <td>5</td>\n",
       "      <td>NaN</td>\n",
       "      <td>NaN</td>\n",
       "      <td>0</td>\n",
       "      <td>NaN</td>\n",
       "      <td>795</td>\n",
       "      <td>279191</td>\n",
       "      <td>0</td>\n",
       "    </tr>\n",
       "    <tr>\n",
       "      <th>264</th>\n",
       "      <td>5</td>\n",
       "      <td>NaN</td>\n",
       "      <td>NaN</td>\n",
       "      <td>0</td>\n",
       "      <td>NaN</td>\n",
       "      <td>1013</td>\n",
       "      <td>287997</td>\n",
       "      <td>0</td>\n",
       "    </tr>\n",
       "    <tr>\n",
       "      <th>265</th>\n",
       "      <td>5</td>\n",
       "      <td>NaN</td>\n",
       "      <td>NaN</td>\n",
       "      <td>0</td>\n",
       "      <td>NaN</td>\n",
       "      <td>1075</td>\n",
       "      <td>365869</td>\n",
       "      <td>0</td>\n",
       "    </tr>\n",
       "    <tr>\n",
       "      <th>266</th>\n",
       "      <td>5</td>\n",
       "      <td>NaN</td>\n",
       "      <td>NaN</td>\n",
       "      <td>0</td>\n",
       "      <td>NaN</td>\n",
       "      <td>789</td>\n",
       "      <td>199216</td>\n",
       "      <td>0</td>\n",
       "    </tr>\n",
       "  </tbody>\n",
       "</table>\n",
       "<p>267 rows × 8 columns</p>\n",
       "</div>"
      ],
      "text/plain": [
       "     Building  Year of sale  Month of sale  Type of property  Property #  \\\n",
       "0           1        2005.0           11.0                 0        30.0   \n",
       "1           1        2005.0           10.0                 0        29.0   \n",
       "2           2        2007.0            7.0                 0         2.0   \n",
       "3           2        2007.0           12.0                 0        31.0   \n",
       "4           1        2004.0           11.0                 0        49.0   \n",
       "..        ...           ...            ...               ...         ...   \n",
       "262         5           NaN            NaN                 0         NaN   \n",
       "263         5           NaN            NaN                 0         NaN   \n",
       "264         5           NaN            NaN                 0         NaN   \n",
       "265         5           NaN            NaN                 0         NaN   \n",
       "266         5           NaN            NaN                 0         NaN   \n",
       "\n",
       "     Area (ft.)   Price  Status  \n",
       "0           743  246173       1  \n",
       "1           756  246332       1  \n",
       "2           587  209281       1  \n",
       "3          1605  452667       1  \n",
       "4          1375  467083       1  \n",
       "..          ...     ...     ...  \n",
       "262        1239  322611       0  \n",
       "263         795  279191       0  \n",
       "264        1013  287997       0  \n",
       "265        1075  365869       0  \n",
       "266         789  199216       0  \n",
       "\n",
       "[267 rows x 8 columns]"
      ]
     },
     "execution_count": 3,
     "metadata": {},
     "output_type": "execute_result"
    }
   ],
   "source": [
    "data = pd.read_csv(\"C:/Users/m.bedioune/Downloads/a-step-by-step-explanation-of-pca-on-california-estates-example/California_Real_Estate.csv\",\n",
    "                 sep=';')\n",
    "df_real_estate = data.copy()\n",
    "df_real_estate"
   ]
  },
  {
   "cell_type": "markdown",
   "id": "5620bc71",
   "metadata": {},
   "source": [
    "### Discard the rows with NaN values"
   ]
  },
  {
   "cell_type": "code",
   "execution_count": 4,
   "id": "b77c9356",
   "metadata": {},
   "outputs": [
    {
     "data": {
      "text/html": [
       "<div>\n",
       "<style scoped>\n",
       "    .dataframe tbody tr th:only-of-type {\n",
       "        vertical-align: middle;\n",
       "    }\n",
       "\n",
       "    .dataframe tbody tr th {\n",
       "        vertical-align: top;\n",
       "    }\n",
       "\n",
       "    .dataframe thead th {\n",
       "        text-align: right;\n",
       "    }\n",
       "</style>\n",
       "<table border=\"1\" class=\"dataframe\">\n",
       "  <thead>\n",
       "    <tr style=\"text-align: right;\">\n",
       "      <th></th>\n",
       "      <th>Building</th>\n",
       "      <th>Year of sale</th>\n",
       "      <th>Month of sale</th>\n",
       "      <th>Type of property</th>\n",
       "      <th>Property #</th>\n",
       "      <th>Area (ft.)</th>\n",
       "      <th>Price</th>\n",
       "      <th>Status</th>\n",
       "    </tr>\n",
       "  </thead>\n",
       "  <tbody>\n",
       "    <tr>\n",
       "      <th>0</th>\n",
       "      <td>1</td>\n",
       "      <td>2005.0</td>\n",
       "      <td>11.0</td>\n",
       "      <td>0</td>\n",
       "      <td>30.0</td>\n",
       "      <td>743</td>\n",
       "      <td>246173</td>\n",
       "      <td>1</td>\n",
       "    </tr>\n",
       "    <tr>\n",
       "      <th>1</th>\n",
       "      <td>1</td>\n",
       "      <td>2005.0</td>\n",
       "      <td>10.0</td>\n",
       "      <td>0</td>\n",
       "      <td>29.0</td>\n",
       "      <td>756</td>\n",
       "      <td>246332</td>\n",
       "      <td>1</td>\n",
       "    </tr>\n",
       "    <tr>\n",
       "      <th>2</th>\n",
       "      <td>2</td>\n",
       "      <td>2007.0</td>\n",
       "      <td>7.0</td>\n",
       "      <td>0</td>\n",
       "      <td>2.0</td>\n",
       "      <td>587</td>\n",
       "      <td>209281</td>\n",
       "      <td>1</td>\n",
       "    </tr>\n",
       "    <tr>\n",
       "      <th>3</th>\n",
       "      <td>2</td>\n",
       "      <td>2007.0</td>\n",
       "      <td>12.0</td>\n",
       "      <td>0</td>\n",
       "      <td>31.0</td>\n",
       "      <td>1605</td>\n",
       "      <td>452667</td>\n",
       "      <td>1</td>\n",
       "    </tr>\n",
       "    <tr>\n",
       "      <th>4</th>\n",
       "      <td>1</td>\n",
       "      <td>2004.0</td>\n",
       "      <td>11.0</td>\n",
       "      <td>0</td>\n",
       "      <td>49.0</td>\n",
       "      <td>1375</td>\n",
       "      <td>467083</td>\n",
       "      <td>1</td>\n",
       "    </tr>\n",
       "    <tr>\n",
       "      <th>...</th>\n",
       "      <td>...</td>\n",
       "      <td>...</td>\n",
       "      <td>...</td>\n",
       "      <td>...</td>\n",
       "      <td>...</td>\n",
       "      <td>...</td>\n",
       "      <td>...</td>\n",
       "      <td>...</td>\n",
       "    </tr>\n",
       "    <tr>\n",
       "      <th>191</th>\n",
       "      <td>1</td>\n",
       "      <td>2005.0</td>\n",
       "      <td>7.0</td>\n",
       "      <td>0</td>\n",
       "      <td>22.0</td>\n",
       "      <td>743</td>\n",
       "      <td>210745</td>\n",
       "      <td>1</td>\n",
       "    </tr>\n",
       "    <tr>\n",
       "      <th>192</th>\n",
       "      <td>1</td>\n",
       "      <td>2005.0</td>\n",
       "      <td>7.0</td>\n",
       "      <td>0</td>\n",
       "      <td>28.0</td>\n",
       "      <td>1160</td>\n",
       "      <td>331155</td>\n",
       "      <td>1</td>\n",
       "    </tr>\n",
       "    <tr>\n",
       "      <th>193</th>\n",
       "      <td>1</td>\n",
       "      <td>2005.0</td>\n",
       "      <td>7.0</td>\n",
       "      <td>0</td>\n",
       "      <td>34.0</td>\n",
       "      <td>626</td>\n",
       "      <td>204435</td>\n",
       "      <td>1</td>\n",
       "    </tr>\n",
       "    <tr>\n",
       "      <th>194</th>\n",
       "      <td>1</td>\n",
       "      <td>2005.0</td>\n",
       "      <td>7.0</td>\n",
       "      <td>0</td>\n",
       "      <td>37.0</td>\n",
       "      <td>756</td>\n",
       "      <td>189194</td>\n",
       "      <td>1</td>\n",
       "    </tr>\n",
       "    <tr>\n",
       "      <th>195</th>\n",
       "      <td>1</td>\n",
       "      <td>2005.0</td>\n",
       "      <td>7.0</td>\n",
       "      <td>0</td>\n",
       "      <td>42.0</td>\n",
       "      <td>626</td>\n",
       "      <td>204027</td>\n",
       "      <td>1</td>\n",
       "    </tr>\n",
       "  </tbody>\n",
       "</table>\n",
       "<p>195 rows × 8 columns</p>\n",
       "</div>"
      ],
      "text/plain": [
       "     Building  Year of sale  Month of sale  Type of property  Property #  \\\n",
       "0           1        2005.0           11.0                 0        30.0   \n",
       "1           1        2005.0           10.0                 0        29.0   \n",
       "2           2        2007.0            7.0                 0         2.0   \n",
       "3           2        2007.0           12.0                 0        31.0   \n",
       "4           1        2004.0           11.0                 0        49.0   \n",
       "..        ...           ...            ...               ...         ...   \n",
       "191         1        2005.0            7.0                 0        22.0   \n",
       "192         1        2005.0            7.0                 0        28.0   \n",
       "193         1        2005.0            7.0                 0        34.0   \n",
       "194         1        2005.0            7.0                 0        37.0   \n",
       "195         1        2005.0            7.0                 0        42.0   \n",
       "\n",
       "     Area (ft.)   Price  Status  \n",
       "0           743  246173       1  \n",
       "1           756  246332       1  \n",
       "2           587  209281       1  \n",
       "3          1605  452667       1  \n",
       "4          1375  467083       1  \n",
       "..          ...     ...     ...  \n",
       "191         743  210745       1  \n",
       "192        1160  331155       1  \n",
       "193         626  204435       1  \n",
       "194         756  189194       1  \n",
       "195         626  204027       1  \n",
       "\n",
       "[195 rows x 8 columns]"
      ]
     },
     "execution_count": 4,
     "metadata": {},
     "output_type": "execute_result"
    }
   ],
   "source": [
    "df_real_estate_nonull = df_real_estate[df_real_estate['Status'] == 1]\n",
    "df_real_estate_nonull"
   ]
  },
  {
   "cell_type": "code",
   "execution_count": 5,
   "id": "2d5cf52e",
   "metadata": {},
   "outputs": [],
   "source": [
    "scaler = StandardScaler()\n",
    "df_re_nonull_std = scaler.fit_transform(df_real_estate_nonull)"
   ]
  },
  {
   "cell_type": "code",
   "execution_count": 6,
   "id": "151778f5",
   "metadata": {},
   "outputs": [
    {
     "data": {
      "text/plain": [
       "array([[-0.60734881,  1.31926442,  0.57906783, ..., -0.25542486,\n",
       "         0.2337479 ,  0.        ],\n",
       "       [-0.58105774,  1.34289556,  0.32392824, ..., -0.18273758,\n",
       "         0.199292  ,  0.        ],\n",
       "       [-1.8398805 , -0.1606641 , -0.29157809, ..., -0.71379278,\n",
       "         0.2905317 ,  0.        ],\n",
       "       ...,\n",
       "       [-1.03970034,  1.18485044, -0.6530342 , ..., -0.00559872,\n",
       "         0.19757116,  0.        ],\n",
       "       [-0.76196533,  1.19268984, -0.64690188, ..., -0.00744995,\n",
       "        -0.28604396,  0.        ],\n",
       "       [-0.82936359,  1.09937408, -0.7236547 , ..., -0.01692015,\n",
       "         0.20697981,  0.        ]])"
      ]
     },
     "execution_count": 6,
     "metadata": {},
     "output_type": "execute_result"
    }
   ],
   "source": [
    "pca = PCA()\n",
    "pca.fit_transform(df_re_nonull_std)"
   ]
  },
  {
   "cell_type": "code",
   "execution_count": 7,
   "id": "c284a0b8",
   "metadata": {},
   "outputs": [
    {
     "data": {
      "text/plain": [
       "array([0.30724715, 0.28117078, 0.15166089, 0.12851171, 0.09233419,\n",
       "       0.03075947, 0.00831583, 0.        ])"
      ]
     },
     "execution_count": 7,
     "metadata": {},
     "output_type": "execute_result"
    }
   ],
   "source": [
    "pca.explained_variance_ratio_"
   ]
  },
  {
   "cell_type": "code",
   "execution_count": 8,
   "id": "1d40f1fd",
   "metadata": {},
   "outputs": [
    {
     "data": {
      "image/png": "[encoded data removed]",
      "text/plain": [
       "<Figure size 792x432 with 1 Axes>"
      ]
     },
     "metadata": {},
     "output_type": "display_data"
    }
   ],
   "source": [
    "plt.figure(figsize = (11,6))\n",
    "components = ['Component 1','Component 2','Component 3','Component 4','Component 5','Component 6','Component 7','Component 8']\n",
    "var_exp = pca.explained_variance_ratio_\n",
    "plt.bar(components, var_exp)\n",
    "plt.title('Explained variance by principal components')\n",
    "plt.xlabel('Principal components')\n",
    "plt.ylabel('Explained variance ratio')\n",
    "plt.show()"
   ]
  },
  {
   "cell_type": "code",
   "execution_count": 9,
   "id": "469469b5",
   "metadata": {},
   "outputs": [
    {
     "data": {
      "image/png": "[encoded data removed]",
      "text/plain": [
       "<Figure size 720x432 with 1 Axes>"
      ]
     },
     "metadata": {},
     "output_type": "display_data"
    }
   ],
   "source": [
    "plt.figure(figsize=(10,6))\n",
    "plt.plot(range(1,9),pca.explained_variance_ratio_.cumsum(),marker='o', linestyle='--')\n",
    "plt.title('Explained variance by components')\n",
    "plt.xlabel('Number of components')\n",
    "plt.ylabel('Cumulative explained variance')\n",
    "plt.show()"
   ]
  },
  {
   "cell_type": "markdown",
   "id": "84aec6f4",
   "metadata": {},
   "source": [
    "# PCA Covariance Matrix in Jupyter – Analysis and Interpretation"
   ]
  },
  {
   "cell_type": "code",
   "execution_count": 10,
   "id": "ec946383",
   "metadata": {},
   "outputs": [],
   "source": [
    "pca = PCA(n_components=4)"
   ]
  },
  {
   "cell_type": "code",
   "execution_count": 11,
   "id": "d3b11738",
   "metadata": {},
   "outputs": [
    {
     "data": {
      "text/plain": [
       "PCA(n_components=4)"
      ]
     },
     "execution_count": 11,
     "metadata": {},
     "output_type": "execute_result"
    }
   ],
   "source": [
    "pca.fit(df_re_nonull_std)"
   ]
  },
  {
   "cell_type": "code",
   "execution_count": 12,
   "id": "067c3aba",
   "metadata": {},
   "outputs": [
    {
     "data": {
      "text/plain": [
       "array([[-0.01347829,  0.06534594, -0.06689355, -0.15099905,  0.39492744,\n",
       "         0.63949973,  0.63509464,  0.        ],\n",
       "       [-0.61576753, -0.62980998, -0.02208123,  0.4114363 , -0.15693164,\n",
       "         0.12506318,  0.11888648,  0.        ],\n",
       "       [ 0.2675697 , -0.06682334,  0.90927776,  0.22605443, -0.12937694,\n",
       "         0.11386435,  0.1278709 , -0.        ],\n",
       "       [ 0.26715037,  0.33315704, -0.3274807 ,  0.55432795, -0.56219835,\n",
       "         0.20000856,  0.21689532,  0.        ]])"
      ]
     },
     "execution_count": 12,
     "metadata": {},
     "output_type": "execute_result"
    }
   ],
   "source": [
    "pca.components_"
   ]
  },
  {
   "cell_type": "code",
   "execution_count": 13,
   "id": "71624bf1",
   "metadata": {},
   "outputs": [
    {
     "data": {
      "text/html": [
       "<div>\n",
       "<style scoped>\n",
       "    .dataframe tbody tr th:only-of-type {\n",
       "        vertical-align: middle;\n",
       "    }\n",
       "\n",
       "    .dataframe tbody tr th {\n",
       "        vertical-align: top;\n",
       "    }\n",
       "\n",
       "    .dataframe thead th {\n",
       "        text-align: right;\n",
       "    }\n",
       "</style>\n",
       "<table border=\"1\" class=\"dataframe\">\n",
       "  <thead>\n",
       "    <tr style=\"text-align: right;\">\n",
       "      <th></th>\n",
       "      <th>Building</th>\n",
       "      <th>Year of sale</th>\n",
       "      <th>Month of sale</th>\n",
       "      <th>Type of property</th>\n",
       "      <th>Property #</th>\n",
       "      <th>Area (ft.)</th>\n",
       "      <th>Price</th>\n",
       "      <th>Status</th>\n",
       "    </tr>\n",
       "  </thead>\n",
       "  <tbody>\n",
       "    <tr>\n",
       "      <th>Component 1</th>\n",
       "      <td>-0.013478</td>\n",
       "      <td>0.065346</td>\n",
       "      <td>-0.066894</td>\n",
       "      <td>-0.150999</td>\n",
       "      <td>0.394927</td>\n",
       "      <td>0.639500</td>\n",
       "      <td>0.635095</td>\n",
       "      <td>0.0</td>\n",
       "    </tr>\n",
       "    <tr>\n",
       "      <th>Component 2</th>\n",
       "      <td>-0.615768</td>\n",
       "      <td>-0.629810</td>\n",
       "      <td>-0.022081</td>\n",
       "      <td>0.411436</td>\n",
       "      <td>-0.156932</td>\n",
       "      <td>0.125063</td>\n",
       "      <td>0.118886</td>\n",
       "      <td>0.0</td>\n",
       "    </tr>\n",
       "    <tr>\n",
       "      <th>Component 3</th>\n",
       "      <td>0.267570</td>\n",
       "      <td>-0.066823</td>\n",
       "      <td>0.909278</td>\n",
       "      <td>0.226054</td>\n",
       "      <td>-0.129377</td>\n",
       "      <td>0.113864</td>\n",
       "      <td>0.127871</td>\n",
       "      <td>-0.0</td>\n",
       "    </tr>\n",
       "    <tr>\n",
       "      <th>Component 4</th>\n",
       "      <td>0.267150</td>\n",
       "      <td>0.333157</td>\n",
       "      <td>-0.327481</td>\n",
       "      <td>0.554328</td>\n",
       "      <td>-0.562198</td>\n",
       "      <td>0.200009</td>\n",
       "      <td>0.216895</td>\n",
       "      <td>0.0</td>\n",
       "    </tr>\n",
       "  </tbody>\n",
       "</table>\n",
       "</div>"
      ],
      "text/plain": [
       "             Building  Year of sale  Month of sale  Type of property  \\\n",
       "Component 1 -0.013478      0.065346      -0.066894         -0.150999   \n",
       "Component 2 -0.615768     -0.629810      -0.022081          0.411436   \n",
       "Component 3  0.267570     -0.066823       0.909278          0.226054   \n",
       "Component 4  0.267150      0.333157      -0.327481          0.554328   \n",
       "\n",
       "             Property #  Area (ft.)     Price  Status  \n",
       "Component 1    0.394927    0.639500  0.635095     0.0  \n",
       "Component 2   -0.156932    0.125063  0.118886     0.0  \n",
       "Component 3   -0.129377    0.113864  0.127871    -0.0  \n",
       "Component 4   -0.562198    0.200009  0.216895     0.0  "
      ]
     },
     "execution_count": 13,
     "metadata": {},
     "output_type": "execute_result"
    }
   ],
   "source": [
    "df_pca_comp = pd.DataFrame(data=pca.components_,\n",
    "                        columns=df_real_estate.columns.values,\n",
    "                        index=['Component 1','Component 2','Component 3','Component 4'])\n",
    "df_pca_comp"
   ]
  },
  {
   "cell_type": "code",
   "execution_count": 15,
   "id": "f06952cd",
   "metadata": {},
   "outputs": [
    {
     "data": {
      "image/png": "[encoded data removed]",
      "text/plain": [
       "<Figure size 432x288 with 2 Axes>"
      ]
     },
     "metadata": {},
     "output_type": "display_data"
    }
   ],
   "source": [
    "sns.heatmap(df_pca_comp,\n",
    "           vmin=-1,\n",
    "           vmax=1,\n",
    "           cmap='RdBu',\n",
    "           annot=True)\n",
    "plt.yticks([0,1,2,3],\n",
    "          ['Component 1','Component 2','Component 3','Component 4'],\n",
    "          rotation=45,\n",
    "          fontsize=9)\n",
    "\n",
    "plt.show()"
   ]
  },
  {
   "cell_type": "code",
   "execution_count": null,
   "id": "7597e4c6",
   "metadata": {},
   "outputs": [],
   "source": []
  },
  {
   "cell_type": "code",
   "execution_count": null,
   "id": "60aa1079",
   "metadata": {},
   "outputs": [],
   "source": []
  }
 ],
 "metadata": {
  "kernelspec": {
   "display_name": "Python 3 (ipykernel)",
   "language": "python",
   "name": "python3"
  },
  "language_info": {
   "codemirror_mode": {
    "name": "ipython",
    "version": 3
   },
   "file_extension": ".py",
   "mimetype": "text/x-python",
   "name": "python",
   "nbconvert_exporter": "python",
   "pygments_lexer": "ipython3",
   "version": "3.9.7"
  }
 },
 "nbformat": 4,
 "nbformat_minor": 5
}
